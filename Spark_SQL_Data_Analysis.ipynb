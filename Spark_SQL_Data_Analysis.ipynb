{
  "cells": [
    {
      "cell_type": "markdown",
      "metadata": {
        "id": "view-in-github",
        "colab_type": "text"
      },
      "source": [
        "<a href=\"https://colab.research.google.com/github/Coolinglass/Applied-Machine-Learning-Projects/blob/master/Spark_SQL_Data_Analysis.ipynb\" target=\"_parent\"><img src=\"https://colab.research.google.com/assets/colab-badge.svg\" alt=\"Open In Colab\"/></a>"
      ]
    },
    {
      "cell_type": "code",
      "execution_count": null,
      "id": "d0c2bb14",
      "metadata": {
        "id": "d0c2bb14"
      },
      "outputs": [],
      "source": [
        "from pyspark.sql import SparkSession"
      ]
    },
    {
      "cell_type": "code",
      "execution_count": null,
      "id": "e0fea7b7",
      "metadata": {
        "id": "e0fea7b7"
      },
      "outputs": [],
      "source": [
        "# Create SparkSession object\n",
        "spark = SparkSession.builder \\\n",
        "        .getOrCreate()"
      ]
    },
    {
      "cell_type": "code",
      "execution_count": null,
      "id": "809d343d",
      "metadata": {
        "id": "809d343d"
      },
      "outputs": [],
      "source": [
        "# Import required libraries\n",
        "from pyspark.sql.types import StringType, IntegerType, StructType, StructField, DoubleType"
      ]
    },
    {
      "cell_type": "code",
      "execution_count": null,
      "id": "56e93af3",
      "metadata": {
        "id": "56e93af3"
      },
      "outputs": [],
      "source": [
        "# Define schema\n",
        "finalSchema = StructType([StructField('meal_id', StringType(),True),\n",
        "                              StructField('category',StringType(),True),\n",
        "                              StructField('cuisine', StringType(),True),\n",
        "                             ])"
      ]
    },
    {
      "cell_type": "code",
      "execution_count": null,
      "id": "cf79db8c",
      "metadata": {
        "id": "cf79db8c"
      },
      "outputs": [],
      "source": [
        "# Creating dataframe from the data\n",
        "Meal_info = spark.read.csv('dataset/meal_info.csv',schema=finalSchema,header=True)"
      ]
    },
    {
      "cell_type": "code",
      "execution_count": null,
      "id": "a76861fc",
      "metadata": {
        "id": "a76861fc",
        "outputId": "94d56c51-2480-4fc4-9872-f5a85935b007"
      },
      "outputs": [
        {
          "name": "stdout",
          "output_type": "stream",
          "text": [
            "root\n",
            " |-- meal_id: string (nullable = true)\n",
            " |-- category: string (nullable = true)\n",
            " |-- cuisine: string (nullable = true)\n",
            "\n"
          ]
        }
      ],
      "source": [
        "Meal_info.printSchema()"
      ]
    },
    {
      "cell_type": "code",
      "execution_count": null,
      "id": "0d2434f1",
      "metadata": {
        "id": "0d2434f1",
        "outputId": "814be219-decd-4897-a078-f9fa41f9b560"
      },
      "outputs": [
        {
          "name": "stdout",
          "output_type": "stream",
          "text": [
            "+-------+------------+-------+\n",
            "|meal_id|    category|cuisine|\n",
            "+-------+------------+-------+\n",
            "|   1885|   Beverages|   Thai|\n",
            "|   1993|   Beverages|   Thai|\n",
            "|   2539|   Beverages|   Thai|\n",
            "|   1248|   Beverages| Indian|\n",
            "|   2631|   Beverages| Indian|\n",
            "|   1311|      Extras|   Thai|\n",
            "|   1062|   Beverages|Italian|\n",
            "|   1778|   Beverages|Italian|\n",
            "|   1803|      Extras|   Thai|\n",
            "|   1198|      Extras|   Thai|\n",
            "|   2707|   Beverages|Italian|\n",
            "|   1847|        Soup|   Thai|\n",
            "|   1438|        Soup|   Thai|\n",
            "|   2494|        Soup|   Thai|\n",
            "|   2760|Other Snacks|   Thai|\n",
            "|   2490|       Salad|Italian|\n",
            "|   1109|   Rice Bowl| Indian|\n",
            "|   2290|   Rice Bowl| Indian|\n",
            "|   1525|Other Snacks|   Thai|\n",
            "|   2704|Other Snacks|   Thai|\n",
            "+-------+------------+-------+\n",
            "only showing top 20 rows\n",
            "\n"
          ]
        }
      ],
      "source": [
        "Meal_info.show()"
      ]
    },
    {
      "cell_type": "code",
      "execution_count": null,
      "id": "37b61558",
      "metadata": {
        "id": "37b61558"
      },
      "outputs": [],
      "source": [
        "# Create view for the dataframe\n",
        "Meal_info.createOrReplaceTempView(\"Meal_info\")"
      ]
    },
    {
      "cell_type": "code",
      "execution_count": null,
      "id": "5c1914cb",
      "metadata": {
        "id": "5c1914cb",
        "outputId": "4f12eaf8-2ce0-4d1e-eff0-49df8133ba0f"
      },
      "outputs": [
        {
          "name": "stdout",
          "output_type": "stream",
          "text": [
            "+--------+\n",
            "|col_name|\n",
            "+--------+\n",
            "| meal_id|\n",
            "|category|\n",
            "| cuisine|\n",
            "+--------+\n",
            "\n"
          ]
        }
      ],
      "source": [
        "# View columns\n",
        "spark.sql(\"show columns from Meal_info\").show()"
      ]
    },
    {
      "cell_type": "code",
      "execution_count": null,
      "id": "0b3aa5fb",
      "metadata": {
        "id": "0b3aa5fb",
        "outputId": "87a4e20d-7908-4cc6-b2fd-a663efc58010"
      },
      "outputs": [
        {
          "data": {
            "text/html": [
              "<table border='1'>\n",
              "<tr><th>meal_id</th><th>category</th><th>cuisine</th></tr>\n",
              "<tr><td>1885</td><td>Beverages</td><td>Thai</td></tr>\n",
              "<tr><td>1993</td><td>Beverages</td><td>Thai</td></tr>\n",
              "<tr><td>2539</td><td>Beverages</td><td>Thai</td></tr>\n",
              "<tr><td>1248</td><td>Beverages</td><td>Indian</td></tr>\n",
              "<tr><td>2631</td><td>Beverages</td><td>Indian</td></tr>\n",
              "<tr><td>1311</td><td>Extras</td><td>Thai</td></tr>\n",
              "<tr><td>1062</td><td>Beverages</td><td>Italian</td></tr>\n",
              "<tr><td>1778</td><td>Beverages</td><td>Italian</td></tr>\n",
              "<tr><td>1803</td><td>Extras</td><td>Thai</td></tr>\n",
              "<tr><td>1198</td><td>Extras</td><td>Thai</td></tr>\n",
              "<tr><td>2707</td><td>Beverages</td><td>Italian</td></tr>\n",
              "<tr><td>1847</td><td>Soup</td><td>Thai</td></tr>\n",
              "<tr><td>1438</td><td>Soup</td><td>Thai</td></tr>\n",
              "<tr><td>2494</td><td>Soup</td><td>Thai</td></tr>\n",
              "<tr><td>2760</td><td>Other Snacks</td><td>Thai</td></tr>\n",
              "<tr><td>2490</td><td>Salad</td><td>Italian</td></tr>\n",
              "<tr><td>1109</td><td>Rice Bowl</td><td>Indian</td></tr>\n",
              "<tr><td>2290</td><td>Rice Bowl</td><td>Indian</td></tr>\n",
              "<tr><td>1525</td><td>Other Snacks</td><td>Thai</td></tr>\n",
              "<tr><td>2704</td><td>Other Snacks</td><td>Thai</td></tr>\n",
              "</table>\n",
              "only showing top 20 rows\n"
            ],
            "text/plain": [
              "+-------+------------+-------+\n",
              "|meal_id|    category|cuisine|\n",
              "+-------+------------+-------+\n",
              "|   1885|   Beverages|   Thai|\n",
              "|   1993|   Beverages|   Thai|\n",
              "|   2539|   Beverages|   Thai|\n",
              "|   1248|   Beverages| Indian|\n",
              "|   2631|   Beverages| Indian|\n",
              "|   1311|      Extras|   Thai|\n",
              "|   1062|   Beverages|Italian|\n",
              "|   1778|   Beverages|Italian|\n",
              "|   1803|      Extras|   Thai|\n",
              "|   1198|      Extras|   Thai|\n",
              "|   2707|   Beverages|Italian|\n",
              "|   1847|        Soup|   Thai|\n",
              "|   1438|        Soup|   Thai|\n",
              "|   2494|        Soup|   Thai|\n",
              "|   2760|Other Snacks|   Thai|\n",
              "|   2490|       Salad|Italian|\n",
              "|   1109|   Rice Bowl| Indian|\n",
              "|   2290|   Rice Bowl| Indian|\n",
              "|   1525|Other Snacks|   Thai|\n",
              "|   2704|Other Snacks|   Thai|\n",
              "+-------+------------+-------+\n",
              "only showing top 20 rows"
            ]
          },
          "execution_count": 10,
          "metadata": {},
          "output_type": "execute_result"
        }
      ],
      "source": [
        "spark.sql(\"select meal_id, category, cuisine from Meal_info\")"
      ]
    },
    {
      "cell_type": "code",
      "execution_count": null,
      "id": "7a723e79",
      "metadata": {
        "id": "7a723e79",
        "outputId": "75b5791a-0eb6-4484-e012-5b85c48b7607"
      },
      "outputs": [
        {
          "data": {
            "text/html": [
              "<table border='1'>\n",
              "<tr><th>category</th></tr>\n",
              "<tr><td>Salad</td></tr>\n",
              "<tr><td>Desert</td></tr>\n",
              "<tr><td>Biryani</td></tr>\n",
              "<tr><td>Rice Bowl</td></tr>\n",
              "<tr><td>Sandwich</td></tr>\n",
              "<tr><td>Pizza</td></tr>\n",
              "<tr><td>Beverages</td></tr>\n",
              "<tr><td>Other Snacks</td></tr>\n",
              "<tr><td>Soup</td></tr>\n",
              "<tr><td>Starters</td></tr>\n",
              "<tr><td>Extras</td></tr>\n",
              "<tr><td>Seafood</td></tr>\n",
              "<tr><td>Pasta</td></tr>\n",
              "<tr><td>Fish</td></tr>\n",
              "</table>\n"
            ],
            "text/plain": [
              "+------------+\n",
              "|    category|\n",
              "+------------+\n",
              "|       Salad|\n",
              "|      Desert|\n",
              "|     Biryani|\n",
              "|   Rice Bowl|\n",
              "|    Sandwich|\n",
              "|       Pizza|\n",
              "|   Beverages|\n",
              "|Other Snacks|\n",
              "|        Soup|\n",
              "|    Starters|\n",
              "|      Extras|\n",
              "|     Seafood|\n",
              "|       Pasta|\n",
              "|        Fish|\n",
              "+------------+"
            ]
          },
          "execution_count": 11,
          "metadata": {},
          "output_type": "execute_result"
        }
      ],
      "source": [
        "spark.sql(\"Select DISTINCT category FROM meal_info\")"
      ]
    },
    {
      "cell_type": "markdown",
      "id": "92188258",
      "metadata": {
        "id": "92188258"
      },
      "source": [
        "# Q1. Distinct number of meal categories and cuisines"
      ]
    },
    {
      "cell_type": "code",
      "execution_count": null,
      "id": "af340ef1",
      "metadata": {
        "id": "af340ef1",
        "outputId": "dcadb981-091f-4ae8-9062-9b69d6ddcf2b"
      },
      "outputs": [
        {
          "data": {
            "text/html": [
              "<table border='1'>\n",
              "<tr><th>distinct_category</th></tr>\n",
              "<tr><td>14</td></tr>\n",
              "</table>\n"
            ],
            "text/plain": [
              "+-----------------+\n",
              "|distinct_category|\n",
              "+-----------------+\n",
              "|               14|\n",
              "+-----------------+"
            ]
          },
          "execution_count": 12,
          "metadata": {},
          "output_type": "execute_result"
        }
      ],
      "source": [
        "spark.sql(\"Select COUNT(DISTINCT category) as distinct_category FROM meal_info\")"
      ]
    },
    {
      "cell_type": "code",
      "execution_count": null,
      "id": "4a5795d0",
      "metadata": {
        "id": "4a5795d0",
        "outputId": "a7eecb80-addb-4004-d9f7-fbf779c235e4"
      },
      "outputs": [
        {
          "data": {
            "text/html": [
              "<table border='1'>\n",
              "<tr><th>distinct_cuisine</th></tr>\n",
              "<tr><td>4</td></tr>\n",
              "</table>\n"
            ],
            "text/plain": [
              "+----------------+\n",
              "|distinct_cuisine|\n",
              "+----------------+\n",
              "|               4|\n",
              "+----------------+"
            ]
          },
          "execution_count": 13,
          "metadata": {},
          "output_type": "execute_result"
        }
      ],
      "source": [
        "spark.sql(\"Select COUNT(DISTINCT cuisine) as distinct_cuisine FROM meal_info\")"
      ]
    },
    {
      "cell_type": "code",
      "execution_count": null,
      "id": "c606920d",
      "metadata": {
        "id": "c606920d"
      },
      "outputs": [],
      "source": [
        "# Define schema\n",
        "trainschema = StructType([StructField('id', DoubleType(),True),\n",
        "                              StructField('week',IntegerType(),True),\n",
        "                              StructField('center_id', StringType(),True),\n",
        "                              StructField('meal_id', StringType(), True),\n",
        "                              StructField('checkout_price', DoubleType(), True),\n",
        "                              StructField('base_price', DoubleType(), True),\n",
        "                              StructField('emailer_for_promotion', StringType(), True),\n",
        "                              StructField('homepage_featured', StringType(), True),\n",
        "                              StructField('num_orders', IntegerType(), True),\n",
        "                             ])"
      ]
    },
    {
      "cell_type": "code",
      "execution_count": null,
      "id": "a69e0d5c",
      "metadata": {
        "id": "a69e0d5c"
      },
      "outputs": [],
      "source": [
        "train = spark.read.csv('dataset/train.csv',schema=trainschema,header=True)"
      ]
    },
    {
      "cell_type": "code",
      "execution_count": null,
      "id": "065b3ac6",
      "metadata": {
        "id": "065b3ac6",
        "outputId": "9ee4aacf-71f4-4ddf-f1dc-c7c0b717742d"
      },
      "outputs": [
        {
          "name": "stdout",
          "output_type": "stream",
          "text": [
            "root\n",
            " |-- id: double (nullable = true)\n",
            " |-- week: integer (nullable = true)\n",
            " |-- center_id: string (nullable = true)\n",
            " |-- meal_id: string (nullable = true)\n",
            " |-- checkout_price: double (nullable = true)\n",
            " |-- base_price: double (nullable = true)\n",
            " |-- emailer_for_promotion: string (nullable = true)\n",
            " |-- homepage_featured: string (nullable = true)\n",
            " |-- num_orders: integer (nullable = true)\n",
            "\n"
          ]
        }
      ],
      "source": [
        "# Schema of dataframe\n",
        "train.printSchema()"
      ]
    },
    {
      "cell_type": "code",
      "execution_count": null,
      "id": "b6879ab2",
      "metadata": {
        "id": "b6879ab2",
        "outputId": "7f329579-300e-42d9-aa0b-a95014be4a30"
      },
      "outputs": [
        {
          "name": "stdout",
          "output_type": "stream",
          "text": [
            "+---------+----+---------+-------+--------------+----------+---------------------+-----------------+----------+\n",
            "|       id|week|center_id|meal_id|checkout_price|base_price|emailer_for_promotion|homepage_featured|num_orders|\n",
            "+---------+----+---------+-------+--------------+----------+---------------------+-----------------+----------+\n",
            "|1379560.0|   1|       55|   1885|        136.83|    152.29|                    0|                0|       177|\n",
            "|1466964.0|   1|       55|   1993|        136.83|    135.83|                    0|                0|       270|\n",
            "|1346989.0|   1|       55|   2539|        134.86|    135.86|                    0|                0|       189|\n",
            "|1338232.0|   1|       55|   2139|         339.5|    437.53|                    0|                0|        54|\n",
            "|1448490.0|   1|       55|   2631|         243.5|     242.5|                    0|                0|        40|\n",
            "|1270037.0|   1|       55|   1248|        251.23|    252.23|                    0|                0|        28|\n",
            "|1191377.0|   1|       55|   1778|        183.36|    184.36|                    0|                0|       190|\n",
            "|1499955.0|   1|       55|   1062|        182.36|    183.36|                    0|                0|       391|\n",
            "|1025244.0|   1|       55|   2707|        193.06|    192.06|                    0|                0|       472|\n",
            "|1054194.0|   1|       55|   1207|        325.92|    384.18|                    0|                1|       676|\n",
            "|1469367.0|   1|       55|   1230|        323.01|     390.0|                    0|                1|       823|\n",
            "|1029333.0|   1|       55|   2322|        322.07|     388.0|                    0|                1|       972|\n",
            "|1446016.0|   1|       55|   2290|        311.43|    310.43|                    0|                0|       162|\n",
            "|1244647.0|   1|       55|   1727|        445.23|    446.23|                    0|                0|       420|\n",
            "|1378227.0|   1|       55|   1109|        264.84|    297.79|                    1|                0|       756|\n",
            "|1181556.0|   1|       55|   2640|        282.33|    281.33|                    0|                0|       108|\n",
            "|1313873.0|   1|       55|   2306|         243.5|    340.53|                    0|                0|        28|\n",
            "|1067069.0|   1|       55|   2126|         486.0|     485.0|                    0|                0|        28|\n",
            "|1058482.0|   1|       55|   2826|        306.58|    305.58|                    0|                0|       188|\n",
            "|1240935.0|   1|       55|   1754|        289.12|    289.12|                    0|                0|       485|\n",
            "+---------+----+---------+-------+--------------+----------+---------------------+-----------------+----------+\n",
            "only showing top 20 rows\n",
            "\n"
          ]
        }
      ],
      "source": [
        "# Display dataframe\n",
        "train.show()"
      ]
    },
    {
      "cell_type": "code",
      "execution_count": null,
      "id": "7bfe36b9",
      "metadata": {
        "id": "7bfe36b9"
      },
      "outputs": [],
      "source": [
        "# Create view for the dataframe\n",
        "train.createOrReplaceTempView(\"train\")"
      ]
    },
    {
      "cell_type": "markdown",
      "id": "c0b241aa",
      "metadata": {
        "id": "c0b241aa"
      },
      "source": [
        "# 2 Center_id has highest num_orders"
      ]
    },
    {
      "cell_type": "code",
      "execution_count": null,
      "id": "47ace97b",
      "metadata": {
        "id": "47ace97b",
        "outputId": "f56d0c9d-eb3e-4292-e45e-00bda3e4e005"
      },
      "outputs": [
        {
          "data": {
            "text/html": [
              "<table border='1'>\n",
              "<tr><th>center_id</th><th>sum(num_orders)</th></tr>\n",
              "<tr><td>13</td><td>1742220</td></tr>\n",
              "</table>\n"
            ],
            "text/plain": [
              "+---------+---------------+\n",
              "|center_id|sum(num_orders)|\n",
              "+---------+---------------+\n",
              "|       13|        1742220|\n",
              "+---------+---------------+"
            ]
          },
          "execution_count": 19,
          "metadata": {},
          "output_type": "execute_result"
        }
      ],
      "source": [
        "spark.sql(\"SELECT center_id, SUM (num_orders) FROM train GROUP BY center_id ORDER BY SUM(num_orders) desc LIMIT 1\")"
      ]
    },
    {
      "cell_type": "code",
      "execution_count": null,
      "id": "07a55264",
      "metadata": {
        "id": "07a55264"
      },
      "outputs": [],
      "source": [
        "# Left outer join\n",
        "left_outer_join_df = train.join(Meal_info, 'meal_id', 'leftouter')"
      ]
    },
    {
      "cell_type": "code",
      "execution_count": null,
      "id": "8c218ee7",
      "metadata": {
        "id": "8c218ee7",
        "outputId": "4494f481-6600-45e7-c5da-f0e52780892d"
      },
      "outputs": [
        {
          "data": {
            "text/html": [
              "<table border='1'>\n",
              "<tr><th>id</th><th>week</th><th>center_id</th><th>meal_id</th><th>checkout_price</th><th>base_price</th><th>emailer_for_promotion</th><th>homepage_featured</th><th>num_orders</th><th>meal_id</th><th>category</th><th>cuisine</th></tr>\n",
              "<tr><td>1171094.0</td><td>1</td><td>13</td><td>1885</td><td>135.86</td><td>122.28</td><td>0</td><td>1</td><td>2132</td><td>1885</td><td>Beverages</td><td>Thai</td></tr>\n",
              "<tr><td>1068455.0</td><td>1</td><td>13</td><td>1993</td><td>134.86</td><td>122.28</td><td>0</td><td>1</td><td>2418</td><td>1993</td><td>Beverages</td><td>Thai</td></tr>\n",
              "<tr><td>1105491.0</td><td>1</td><td>13</td><td>2539</td><td>133.86</td><td>133.86</td><td>0</td><td>0</td><td>474</td><td>2539</td><td>Beverages</td><td>Thai</td></tr>\n",
              "<tr><td>1486384.0</td><td>1</td><td>13</td><td>2139</td><td>337.62</td><td>437.53</td><td>0</td><td>0</td><td>123</td><td>2139</td><td>Beverages</td><td>Indian</td></tr>\n",
              "<tr><td>1345938.0</td><td>1</td><td>13</td><td>2631</td><td>252.23</td><td>437.47</td><td>0</td><td>0</td><td>162</td><td>2631</td><td>Beverages</td><td>Indian</td></tr>\n",
              "<tr><td>1277430.0</td><td>1</td><td>13</td><td>1248</td><td>253.23</td><td>251.23</td><td>0</td><td>0</td><td>121</td><td>1248</td><td>Beverages</td><td>Indian</td></tr>\n",
              "<tr><td>1005971.0</td><td>1</td><td>13</td><td>1778</td><td>184.36</td><td>182.36</td><td>0</td><td>0</td><td>513</td><td>1778</td><td>Beverages</td><td>Italian</td></tr>\n",
              "<tr><td>1217794.0</td><td>1</td><td>13</td><td>1062</td><td>185.33</td><td>185.33</td><td>0</td><td>0</td><td>998</td><td>1062</td><td>Beverages</td><td>Italian</td></tr>\n",
              "<tr><td>1264572.0</td><td>1</td><td>13</td><td>2707</td><td>191.09</td><td>193.09</td><td>0</td><td>0</td><td>2078</td><td>2707</td><td>Beverages</td><td>Italian</td></tr>\n",
              "<tr><td>1269641.0</td><td>1</td><td>13</td><td>1207</td><td>307.49</td><td>382.24</td><td>0</td><td>0</td><td>366</td><td>1207</td><td>Beverages</td><td>Continental</td></tr>\n",
              "<tr><td>1129923.0</td><td>1</td><td>13</td><td>1230</td><td>320.16</td><td>390.0</td><td>0</td><td>0</td><td>337</td><td>1230</td><td>Beverages</td><td>Continental</td></tr>\n",
              "<tr><td>1068257.0</td><td>1</td><td>13</td><td>2322</td><td>321.1</td><td>382.24</td><td>0</td><td>0</td><td>528</td><td>2322</td><td>Beverages</td><td>Continental</td></tr>\n",
              "<tr><td>1324629.0</td><td>1</td><td>13</td><td>2290</td><td>279.36</td><td>281.36</td><td>0</td><td>0</td><td>1688</td><td>2290</td><td>Rice Bowl</td><td>Indian</td></tr>\n",
              "<tr><td>1298988.0</td><td>1</td><td>13</td><td>1727</td><td>424.92</td><td>424.92</td><td>0</td><td>0</td><td>1067</td><td>1727</td><td>Rice Bowl</td><td>Indian</td></tr>\n",
              "<tr><td>1191305.0</td><td>1</td><td>13</td><td>1109</td><td>231.86</td><td>299.73</td><td>1</td><td>0</td><td>3511</td><td>1109</td><td>Rice Bowl</td><td>Indian</td></tr>\n",
              "<tr><td>1174920.0</td><td>1</td><td>13</td><td>2577</td><td>281.33</td><td>280.33</td><td>0</td><td>0</td><td>271</td><td>2577</td><td>Starters</td><td>Thai</td></tr>\n",
              "<tr><td>1383444.0</td><td>1</td><td>13</td><td>2640</td><td>282.33</td><td>280.33</td><td>0</td><td>0</td><td>526</td><td>2640</td><td>Starters</td><td>Thai</td></tr>\n",
              "<tr><td>1063247.0</td><td>1</td><td>13</td><td>1878</td><td>280.33</td><td>280.33</td><td>0</td><td>0</td><td>257</td><td>1878</td><td>Starters</td><td>Thai</td></tr>\n",
              "<tr><td>1437377.0</td><td>1</td><td>13</td><td>2306</td><td>244.44</td><td>340.53</td><td>0</td><td>1</td><td>756</td><td>2306</td><td>Pasta</td><td>Italian</td></tr>\n",
              "<tr><td>1461939.0</td><td>1</td><td>13</td><td>1216</td><td>454.93</td><td>456.93</td><td>0</td><td>0</td><td>13</td><td>1216</td><td>Pasta</td><td>Italian</td></tr>\n",
              "</table>\n",
              "only showing top 20 rows\n"
            ],
            "text/plain": [
              "+---------+----+---------+-------+--------------+----------+---------------------+-----------------+----------+-------+---------+-----------+\n",
              "|       id|week|center_id|meal_id|checkout_price|base_price|emailer_for_promotion|homepage_featured|num_orders|meal_id| category|    cuisine|\n",
              "+---------+----+---------+-------+--------------+----------+---------------------+-----------------+----------+-------+---------+-----------+\n",
              "|1171094.0|   1|       13|   1885|        135.86|    122.28|                    0|                1|      2132|   1885|Beverages|       Thai|\n",
              "|1068455.0|   1|       13|   1993|        134.86|    122.28|                    0|                1|      2418|   1993|Beverages|       Thai|\n",
              "|1105491.0|   1|       13|   2539|        133.86|    133.86|                    0|                0|       474|   2539|Beverages|       Thai|\n",
              "|1486384.0|   1|       13|   2139|        337.62|    437.53|                    0|                0|       123|   2139|Beverages|     Indian|\n",
              "|1345938.0|   1|       13|   2631|        252.23|    437.47|                    0|                0|       162|   2631|Beverages|     Indian|\n",
              "|1277430.0|   1|       13|   1248|        253.23|    251.23|                    0|                0|       121|   1248|Beverages|     Indian|\n",
              "|1005971.0|   1|       13|   1778|        184.36|    182.36|                    0|                0|       513|   1778|Beverages|    Italian|\n",
              "|1217794.0|   1|       13|   1062|        185.33|    185.33|                    0|                0|       998|   1062|Beverages|    Italian|\n",
              "|1264572.0|   1|       13|   2707|        191.09|    193.09|                    0|                0|      2078|   2707|Beverages|    Italian|\n",
              "|1269641.0|   1|       13|   1207|        307.49|    382.24|                    0|                0|       366|   1207|Beverages|Continental|\n",
              "|1129923.0|   1|       13|   1230|        320.16|     390.0|                    0|                0|       337|   1230|Beverages|Continental|\n",
              "|1068257.0|   1|       13|   2322|         321.1|    382.24|                    0|                0|       528|   2322|Beverages|Continental|\n",
              "|1324629.0|   1|       13|   2290|        279.36|    281.36|                    0|                0|      1688|   2290|Rice Bowl|     Indian|\n",
              "|1298988.0|   1|       13|   1727|        424.92|    424.92|                    0|                0|      1067|   1727|Rice Bowl|     Indian|\n",
              "|1191305.0|   1|       13|   1109|        231.86|    299.73|                    1|                0|      3511|   1109|Rice Bowl|     Indian|\n",
              "|1174920.0|   1|       13|   2577|        281.33|    280.33|                    0|                0|       271|   2577| Starters|       Thai|\n",
              "|1383444.0|   1|       13|   2640|        282.33|    280.33|                    0|                0|       526|   2640| Starters|       Thai|\n",
              "|1063247.0|   1|       13|   1878|        280.33|    280.33|                    0|                0|       257|   1878| Starters|       Thai|\n",
              "|1437377.0|   1|       13|   2306|        244.44|    340.53|                    0|                1|       756|   2306|    Pasta|    Italian|\n",
              "|1461939.0|   1|       13|   1216|        454.93|    456.93|                    0|                0|        13|   1216|    Pasta|    Italian|\n",
              "+---------+----+---------+-------+--------------+----------+---------------------+-----------------+----------+-------+---------+-----------+\n",
              "only showing top 20 rows"
            ]
          },
          "execution_count": 21,
          "metadata": {},
          "output_type": "execute_result"
        }
      ],
      "source": [
        "spark.sql(\"SELECT * FROM train LEFT JOIN Meal_info ON train.meal_id = Meal_info.meal_id WHERE center_id = 13\")"
      ]
    },
    {
      "cell_type": "markdown",
      "id": "092a6f6d",
      "metadata": {
        "id": "092a6f6d"
      },
      "source": [
        "# 3 Top selling cuisine at the center_id that has highest num_orders"
      ]
    },
    {
      "cell_type": "code",
      "execution_count": null,
      "id": "f0a092c7",
      "metadata": {
        "id": "f0a092c7",
        "outputId": "860bb67d-08ff-4fa5-97b3-c5aee29e1ff6"
      },
      "outputs": [
        {
          "data": {
            "text/html": [
              "<table border='1'>\n",
              "<tr><th>cuisine</th><th>sum(num_orders)</th></tr>\n",
              "<tr><td>Thai</td><td>654724</td></tr>\n",
              "</table>\n"
            ],
            "text/plain": [
              "+-------+---------------+\n",
              "|cuisine|sum(num_orders)|\n",
              "+-------+---------------+\n",
              "|   Thai|         654724|\n",
              "+-------+---------------+"
            ]
          },
          "execution_count": 22,
          "metadata": {},
          "output_type": "execute_result"
        }
      ],
      "source": [
        "spark.sql(\"SELECT cuisine, SUM(num_orders) FROM train LEFT JOIN Meal_info ON train.meal_id = Meal_info.meal_id WHERE center_id = 13 GROUP BY cuisine ORDER BY sum(num_orders) desc LIMIT 1\")"
      ]
    },
    {
      "cell_type": "code",
      "execution_count": null,
      "id": "203aa0e7",
      "metadata": {
        "id": "203aa0e7"
      },
      "outputs": [],
      "source": [
        "# Define schema\n",
        "fulfilmentcenter = StructType([StructField('center_id', StringType(),True),\n",
        "                              StructField ('city_code',StringType(),True),\n",
        "                              StructField ('region_code', StringType(),True),\n",
        "                              StructField ('center_type', StringType(),True),\n",
        "                              StructField ('op_area', DoubleType(),True),\n",
        "                             ])"
      ]
    },
    {
      "cell_type": "code",
      "execution_count": null,
      "id": "bc5ffc8e",
      "metadata": {
        "id": "bc5ffc8e"
      },
      "outputs": [],
      "source": [
        "# Creating dataframe from the data\n",
        "Fulfilment_center = spark.read.csv('dataset/fulfilment_center_info.csv',schema=fulfilmentcenter,header=True)"
      ]
    },
    {
      "cell_type": "code",
      "execution_count": null,
      "id": "5d153bfe",
      "metadata": {
        "id": "5d153bfe"
      },
      "outputs": [],
      "source": [
        "# Create view for the dataframe\n",
        "Fulfilment_center.createOrReplaceTempView(\"Fulfilment_center\")"
      ]
    },
    {
      "cell_type": "code",
      "execution_count": null,
      "id": "904ed273",
      "metadata": {
        "id": "904ed273",
        "outputId": "c41b2eb4-6eac-44f4-cc9e-cf4198c5b34e"
      },
      "outputs": [
        {
          "name": "stdout",
          "output_type": "stream",
          "text": [
            "+-----------+\n",
            "|   col_name|\n",
            "+-----------+\n",
            "|  center_id|\n",
            "|  city_code|\n",
            "|region_code|\n",
            "|center_type|\n",
            "|    op_area|\n",
            "+-----------+\n",
            "\n"
          ]
        }
      ],
      "source": [
        "spark.sql(\"show columns from Fulfilment_center\").show()"
      ]
    },
    {
      "cell_type": "code",
      "execution_count": null,
      "id": "9a1382cb",
      "metadata": {
        "id": "9a1382cb",
        "outputId": "492bf693-084d-48cf-a277-c651a632199d"
      },
      "outputs": [
        {
          "data": {
            "text/html": [
              "<table border='1'>\n",
              "<tr><th>city_code</th><th>region_Code</th><th>op_area</th><th>Center_type</th></tr>\n",
              "<tr><td>679</td><td>56</td><td>3.7</td><td>TYPE_A</td></tr>\n",
              "<tr><td>590</td><td>56</td><td>6.7</td><td>TYPE_B</td></tr>\n",
              "<tr><td>590</td><td>56</td><td>4.0</td><td>TYPE_C</td></tr>\n",
              "<tr><td>648</td><td>34</td><td>4.1</td><td>TYPE_A</td></tr>\n",
              "<tr><td>632</td><td>34</td><td>3.6</td><td>TYPE_C</td></tr>\n",
              "<tr><td>553</td><td>77</td><td>4.4</td><td>TYPE_A</td></tr>\n",
              "<tr><td>593</td><td>77</td><td>3.9</td><td>TYPE_A</td></tr>\n",
              "<tr><td>693</td><td>34</td><td>2.8</td><td>TYPE_C</td></tr>\n",
              "<tr><td>526</td><td>34</td><td>4.1</td><td>TYPE_A</td></tr>\n",
              "<tr><td>562</td><td>77</td><td>3.8</td><td>TYPE_B</td></tr>\n",
              "<tr><td>699</td><td>85</td><td>2.8</td><td>TYPE_C</td></tr>\n",
              "<tr><td>699</td><td>85</td><td>4.0</td><td>TYPE_C</td></tr>\n",
              "<tr><td>526</td><td>34</td><td>3.8</td><td>TYPE_A</td></tr>\n",
              "<tr><td>478</td><td>77</td><td>2.4</td><td>TYPE_A</td></tr>\n",
              "<tr><td>576</td><td>34</td><td>4.0</td><td>TYPE_B</td></tr>\n",
              "<tr><td>526</td><td>34</td><td>2.9</td><td>TYPE_C</td></tr>\n",
              "<tr><td>713</td><td>85</td><td>4.5</td><td>TYPE_A</td></tr>\n",
              "<tr><td>654</td><td>56</td><td>2.7</td><td>TYPE_C</td></tr>\n",
              "<tr><td>515</td><td>77</td><td>3.0</td><td>TYPE_C</td></tr>\n",
              "<tr><td>647</td><td>56</td><td>4.5</td><td>TYPE_A</td></tr>\n",
              "</table>\n",
              "only showing top 20 rows\n"
            ],
            "text/plain": [
              "+---------+-----------+-------+-----------+\n",
              "|city_code|region_Code|op_area|Center_type|\n",
              "+---------+-----------+-------+-----------+\n",
              "|      679|         56|    3.7|     TYPE_A|\n",
              "|      590|         56|    6.7|     TYPE_B|\n",
              "|      590|         56|    4.0|     TYPE_C|\n",
              "|      648|         34|    4.1|     TYPE_A|\n",
              "|      632|         34|    3.6|     TYPE_C|\n",
              "|      553|         77|    4.4|     TYPE_A|\n",
              "|      593|         77|    3.9|     TYPE_A|\n",
              "|      693|         34|    2.8|     TYPE_C|\n",
              "|      526|         34|    4.1|     TYPE_A|\n",
              "|      562|         77|    3.8|     TYPE_B|\n",
              "|      699|         85|    2.8|     TYPE_C|\n",
              "|      699|         85|    4.0|     TYPE_C|\n",
              "|      526|         34|    3.8|     TYPE_A|\n",
              "|      478|         77|    2.4|     TYPE_A|\n",
              "|      576|         34|    4.0|     TYPE_B|\n",
              "|      526|         34|    2.9|     TYPE_C|\n",
              "|      713|         85|    4.5|     TYPE_A|\n",
              "|      654|         56|    2.7|     TYPE_C|\n",
              "|      515|         77|    3.0|     TYPE_C|\n",
              "|      647|         56|    4.5|     TYPE_A|\n",
              "+---------+-----------+-------+-----------+\n",
              "only showing top 20 rows"
            ]
          },
          "execution_count": 27,
          "metadata": {},
          "output_type": "execute_result"
        }
      ],
      "source": [
        "spark.sql (\"SELECT city_code, region_Code,op_area, Center_type FROM Fulfilment_Center\")"
      ]
    },
    {
      "cell_type": "markdown",
      "id": "d74c1daf",
      "metadata": {
        "id": "d74c1daf"
      },
      "source": [
        "# 4 Avg op_Area per center_type"
      ]
    },
    {
      "cell_type": "code",
      "execution_count": null,
      "id": "ab23dcd7",
      "metadata": {
        "id": "ab23dcd7",
        "outputId": "80746774-e7d2-4f6a-a0e2-998e29467f14"
      },
      "outputs": [
        {
          "data": {
            "text/html": [
              "<table border='1'>\n",
              "<tr><th>Center_type</th><th>avg(op_area)</th></tr>\n",
              "<tr><td>TYPE_C</td><td>3.1578947368421044</td></tr>\n",
              "<tr><td>TYPE_A</td><td>4.076744186046512</td></tr>\n",
              "<tr><td>TYPE_B</td><td>4.7733333333333325</td></tr>\n",
              "</table>\n"
            ],
            "text/plain": [
              "+-----------+------------------+\n",
              "|Center_type|      avg(op_area)|\n",
              "+-----------+------------------+\n",
              "|     TYPE_C|3.1578947368421044|\n",
              "|     TYPE_A| 4.076744186046512|\n",
              "|     TYPE_B|4.7733333333333325|\n",
              "+-----------+------------------+"
            ]
          },
          "execution_count": 46,
          "metadata": {},
          "output_type": "execute_result"
        }
      ],
      "source": [
        "spark.sql (\"SELECT Center_type, AVG(op_area) FROM Fulfilment_Center GROUP BY Center_Type ORDER BY AVG(op_area)\")"
      ]
    },
    {
      "cell_type": "markdown",
      "id": "6e342253",
      "metadata": {
        "id": "6e342253"
      },
      "source": [
        "# 5 Center_type having highest revenue"
      ]
    },
    {
      "cell_type": "code",
      "execution_count": null,
      "id": "2670cdec",
      "metadata": {
        "id": "2670cdec",
        "outputId": "2a7d8bdf-fc00-4f59-ea57-f0888ad3bf43"
      },
      "outputs": [
        {
          "data": {
            "text/html": [
              "<table border='1'>\n",
              "<tr><th>Center_type</th><th>revenue</th></tr>\n",
              "<tr><td>TYPE_A</td><td>7.276203201869873E9</td></tr>\n",
              "</table>\n"
            ],
            "text/plain": [
              "+-----------+-------------------+\n",
              "|Center_type|            revenue|\n",
              "+-----------+-------------------+\n",
              "|     TYPE_A|7.276203201869873E9|\n",
              "+-----------+-------------------+"
            ]
          },
          "execution_count": 47,
          "metadata": {},
          "output_type": "execute_result"
        }
      ],
      "source": [
        "spark.sql (\"SELECT Center_type, sum(checkout_price*num_orders) AS revenue FROM train LEFT JOIN Fulfilment_Center ON train.center_id = Fulfilment_Center.center_id GROUP BY Center_type ORDER BY revenue desc LIMIT 1\")"
      ]
    },
    {
      "cell_type": "markdown",
      "id": "8fe0919e",
      "metadata": {
        "id": "8fe0919e"
      },
      "source": [
        "# 6 top ordered cusine based on number of orders"
      ]
    },
    {
      "cell_type": "code",
      "execution_count": null,
      "id": "0e4d6160",
      "metadata": {
        "id": "0e4d6160",
        "outputId": "bc985b61-70b2-4d7a-b70a-08eb6c403ebc"
      },
      "outputs": [
        {
          "data": {
            "text/html": [
              "<table border='1'>\n",
              "<tr><th>cuisine</th><th>sum(num_orders)</th></tr>\n",
              "<tr><td>Italian</td><td>17166334</td></tr>\n",
              "</table>\n"
            ],
            "text/plain": [
              "+-------+---------------+\n",
              "|cuisine|sum(num_orders)|\n",
              "+-------+---------------+\n",
              "|Italian|       17166334|\n",
              "+-------+---------------+"
            ]
          },
          "execution_count": 51,
          "metadata": {},
          "output_type": "execute_result"
        }
      ],
      "source": [
        "spark.sql (\"SELECT cuisine, sum(num_orders) FROM train LEFT JOIN Meal_info ON train.meal_id = Meal_info.meal_id GROUP BY cuisine ORDER BY sum(num_orders) desc LIMIT 1\")"
      ]
    },
    {
      "cell_type": "markdown",
      "id": "17a1cb76",
      "metadata": {
        "id": "17a1cb76"
      },
      "source": [
        "# 7 num_orders_per cuisine_per week"
      ]
    },
    {
      "cell_type": "code",
      "execution_count": null,
      "id": "2bf81564",
      "metadata": {
        "id": "2bf81564",
        "outputId": "a09d6c9f-2aee-4143-f4b8-175ae0466440"
      },
      "outputs": [
        {
          "data": {
            "text/html": [
              "<table border='1'>\n",
              "<tr><th>cuisine</th><th>week</th><th>sum(num_orders)</th></tr>\n",
              "<tr><td>Continental</td><td>1</td><td>146020</td></tr>\n",
              "<tr><td>Continental</td><td>2</td><td>133570</td></tr>\n",
              "<tr><td>Continental</td><td>3</td><td>97977</td></tr>\n",
              "<tr><td>Continental</td><td>4</td><td>118819</td></tr>\n",
              "<tr><td>Continental</td><td>5</td><td>116077</td></tr>\n",
              "<tr><td>Continental</td><td>6</td><td>107160</td></tr>\n",
              "<tr><td>Continental</td><td>7</td><td>77051</td></tr>\n",
              "<tr><td>Continental</td><td>8</td><td>43897</td></tr>\n",
              "<tr><td>Continental</td><td>9</td><td>152678</td></tr>\n",
              "<tr><td>Continental</td><td>10</td><td>156051</td></tr>\n",
              "<tr><td>Continental</td><td>11</td><td>124520</td></tr>\n",
              "<tr><td>Continental</td><td>12</td><td>95914</td></tr>\n",
              "<tr><td>Continental</td><td>13</td><td>109010</td></tr>\n",
              "<tr><td>Continental</td><td>14</td><td>98188</td></tr>\n",
              "<tr><td>Continental</td><td>15</td><td>96401</td></tr>\n",
              "<tr><td>Continental</td><td>16</td><td>90087</td></tr>\n",
              "<tr><td>Continental</td><td>17</td><td>114494</td></tr>\n",
              "<tr><td>Continental</td><td>18</td><td>107330</td></tr>\n",
              "<tr><td>Continental</td><td>19</td><td>80208</td></tr>\n",
              "<tr><td>Continental</td><td>20</td><td>87718</td></tr>\n",
              "</table>\n",
              "only showing top 20 rows\n"
            ],
            "text/plain": [
              "+-----------+----+---------------+\n",
              "|    cuisine|week|sum(num_orders)|\n",
              "+-----------+----+---------------+\n",
              "|Continental|   1|         146020|\n",
              "|Continental|   2|         133570|\n",
              "|Continental|   3|          97977|\n",
              "|Continental|   4|         118819|\n",
              "|Continental|   5|         116077|\n",
              "|Continental|   6|         107160|\n",
              "|Continental|   7|          77051|\n",
              "|Continental|   8|          43897|\n",
              "|Continental|   9|         152678|\n",
              "|Continental|  10|         156051|\n",
              "|Continental|  11|         124520|\n",
              "|Continental|  12|          95914|\n",
              "|Continental|  13|         109010|\n",
              "|Continental|  14|          98188|\n",
              "|Continental|  15|          96401|\n",
              "|Continental|  16|          90087|\n",
              "|Continental|  17|         114494|\n",
              "|Continental|  18|         107330|\n",
              "|Continental|  19|          80208|\n",
              "|Continental|  20|          87718|\n",
              "+-----------+----+---------------+\n",
              "only showing top 20 rows"
            ]
          },
          "execution_count": 50,
          "metadata": {},
          "output_type": "execute_result"
        }
      ],
      "source": [
        "spark.sql (\"SELECT cuisine,week,sum(num_orders) FROM train LEFT JOIN Meal_info ON train.meal_id = Meal_info.meal_id GROUP BY cuisine, week ORDER BY cuisine, week\")"
      ]
    },
    {
      "cell_type": "code",
      "execution_count": null,
      "id": "6b280748",
      "metadata": {
        "id": "6b280748",
        "outputId": "d89f3792-7b89-4778-e2c7-f2cf382e9040"
      },
      "outputs": [
        {
          "data": {
            "text/html": [
              "<table border='1'>\n",
              "<tr><th>center_id</th><th>discount</th></tr>\n",
              "<tr><td>13</td><td>2834</td></tr>\n",
              "</table>\n"
            ],
            "text/plain": [
              "+---------+--------+\n",
              "|center_id|discount|\n",
              "+---------+--------+\n",
              "|       13|    2834|\n",
              "+---------+--------+"
            ]
          },
          "execution_count": 61,
          "metadata": {},
          "output_type": "execute_result"
        }
      ],
      "source": [
        "spark.sql(\"SELECT center_id, Count(checkout_price < base_price) AS discount from train GROUP BY center_id ORDER BY discount desc LIMIT 1\")"
      ]
    }
  ],
  "metadata": {
    "kernelspec": {
      "display_name": "Pyspark 2",
      "language": "python",
      "name": "pyspark2"
    },
    "language_info": {
      "codemirror_mode": {
        "name": "ipython",
        "version": 3
      },
      "file_extension": ".py",
      "mimetype": "text/x-python",
      "name": "python",
      "nbconvert_exporter": "python",
      "pygments_lexer": "ipython3",
      "version": "3.6.12"
    },
    "colab": {
      "provenance": [],
      "include_colab_link": true
    }
  },
  "nbformat": 4,
  "nbformat_minor": 5
}
